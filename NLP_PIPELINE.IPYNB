{
 "cells": [
  {
   "cell_type": "code",
   "execution_count": 2,
   "metadata": {},
   "outputs": [],
   "source": [
    "# nltk\n",
    "# spacy\n",
    "# gensim\n",
    "# pytorch\n",
    "# hugging face"
   ]
  },
  {
   "cell_type": "code",
   "execution_count": 3,
   "metadata": {},
   "outputs": [],
   "source": [
    "# spacy is object oriented\n",
    "# nltk is a string oriented"
   ]
  },
  {
   "cell_type": "code",
   "execution_count": 4,
   "metadata": {},
   "outputs": [
    {
     "name": "stdout",
     "output_type": "stream",
     "text": [
      "SPACY V/S NLTK\n"
     ]
    }
   ],
   "source": [
    "print(\"SPACY V/S NLTK\")"
   ]
  },
  {
   "cell_type": "code",
   "execution_count": 1,
   "metadata": {},
   "outputs": [],
   "source": [
    "import spacy"
   ]
  },
  {
   "cell_type": "code",
   "execution_count": 7,
   "metadata": {},
   "outputs": [
    {
     "name": "stdout",
     "output_type": "stream",
     "text": [
      "\u001b[38;5;3m⚠ As of spaCy v3.0, shortcuts like 'en' are deprecated. Please use the\n",
      "full pipeline package name 'en_core_web_sm' instead.\u001b[0m\n",
      "Collecting en-core-web-sm==3.7.1\n",
      "  Downloading https://github.com/explosion/spacy-models/releases/download/en_core_web_sm-3.7.1/en_core_web_sm-3.7.1-py3-none-any.whl (12.8 MB)\n",
      "                                              0.0/12.8 MB ? eta -:--:--\n",
      "                                              0.1/12.8 MB 1.9 MB/s eta 0:00:07\n",
      "                                              0.2/12.8 MB 1.5 MB/s eta 0:00:09\n",
      "                                              0.2/12.8 MB 1.6 MB/s eta 0:00:08\n",
      "                                              0.3/12.8 MB 1.7 MB/s eta 0:00:08\n",
      "     -                                        0.4/12.8 MB 1.8 MB/s eta 0:00:07\n",
      "     -                                        0.5/12.8 MB 2.0 MB/s eta 0:00:06\n",
      "     --                                       0.7/12.8 MB 2.1 MB/s eta 0:00:06\n",
      "     --                                       0.8/12.8 MB 2.1 MB/s eta 0:00:06\n",
      "     --                                       0.9/12.8 MB 2.1 MB/s eta 0:00:06\n",
      "     ---                                      1.0/12.8 MB 2.1 MB/s eta 0:00:06\n",
      "     ---                                      1.1/12.8 MB 2.1 MB/s eta 0:00:06\n",
      "     ---                                      1.2/12.8 MB 2.2 MB/s eta 0:00:06\n",
      "     ---                                      1.3/12.8 MB 2.1 MB/s eta 0:00:06\n",
      "     ----                                     1.4/12.8 MB 2.1 MB/s eta 0:00:06\n",
      "     ----                                     1.5/12.8 MB 2.1 MB/s eta 0:00:06\n",
      "     ----                                     1.6/12.8 MB 2.1 MB/s eta 0:00:06\n",
      "     -----                                    1.7/12.8 MB 2.1 MB/s eta 0:00:06\n",
      "     -----                                    1.8/12.8 MB 2.2 MB/s eta 0:00:05\n",
      "     ------                                   2.0/12.8 MB 2.2 MB/s eta 0:00:05\n",
      "     ------                                   2.1/12.8 MB 2.2 MB/s eta 0:00:05\n",
      "     ------                                   2.1/12.8 MB 2.2 MB/s eta 0:00:05\n",
      "     ------                                   2.2/12.8 MB 2.2 MB/s eta 0:00:05\n",
      "     -------                                  2.4/12.8 MB 2.2 MB/s eta 0:00:05\n",
      "     -------                                  2.5/12.8 MB 2.2 MB/s eta 0:00:05\n",
      "     --------                                 2.6/12.8 MB 2.2 MB/s eta 0:00:05\n",
      "     --------                                 2.7/12.8 MB 2.2 MB/s eta 0:00:05\n",
      "     --------                                 2.8/12.8 MB 2.2 MB/s eta 0:00:05\n",
      "     --------                                 2.9/12.8 MB 2.2 MB/s eta 0:00:05\n",
      "     ---------                                2.9/12.8 MB 2.2 MB/s eta 0:00:05\n",
      "     ---------                                3.0/12.8 MB 2.2 MB/s eta 0:00:05\n",
      "     ---------                                3.1/12.8 MB 2.2 MB/s eta 0:00:05\n",
      "     ----------                               3.3/12.8 MB 2.2 MB/s eta 0:00:05\n",
      "     ----------                               3.3/12.8 MB 2.2 MB/s eta 0:00:05\n",
      "     ----------                               3.4/12.8 MB 2.2 MB/s eta 0:00:05\n",
      "     ----------                               3.5/12.8 MB 2.2 MB/s eta 0:00:05\n",
      "     -----------                              3.5/12.8 MB 2.1 MB/s eta 0:00:05\n",
      "     -----------                              3.6/12.8 MB 2.1 MB/s eta 0:00:05\n",
      "     -----------                              3.7/12.8 MB 2.1 MB/s eta 0:00:05\n",
      "     -----------                              3.7/12.8 MB 2.1 MB/s eta 0:00:05\n",
      "     -----------                              3.8/12.8 MB 2.0 MB/s eta 0:00:05\n",
      "     -----------                              3.8/12.8 MB 2.0 MB/s eta 0:00:05\n",
      "     ------------                             3.9/12.8 MB 2.0 MB/s eta 0:00:05\n",
      "     ------------                             3.9/12.8 MB 2.0 MB/s eta 0:00:05\n",
      "     ------------                             4.0/12.8 MB 2.0 MB/s eta 0:00:05\n",
      "     ------------                             4.0/12.8 MB 1.9 MB/s eta 0:00:05\n",
      "     ------------                             4.1/12.8 MB 1.9 MB/s eta 0:00:05\n",
      "     -------------                            4.2/12.8 MB 1.9 MB/s eta 0:00:05\n",
      "     -------------                            4.3/12.8 MB 1.9 MB/s eta 0:00:05\n",
      "     -------------                            4.4/12.8 MB 1.9 MB/s eta 0:00:05\n",
      "     -------------                            4.5/12.8 MB 1.9 MB/s eta 0:00:05\n",
      "     --------------                           4.6/12.8 MB 1.9 MB/s eta 0:00:05\n",
      "     --------------                           4.6/12.8 MB 1.9 MB/s eta 0:00:05\n",
      "     --------------                           4.7/12.8 MB 1.9 MB/s eta 0:00:05\n",
      "     --------------                           4.8/12.8 MB 1.9 MB/s eta 0:00:05\n",
      "     ---------------                          4.9/12.8 MB 1.9 MB/s eta 0:00:05\n",
      "     ---------------                          4.9/12.8 MB 1.9 MB/s eta 0:00:05\n",
      "     ---------------                          5.0/12.8 MB 1.9 MB/s eta 0:00:05\n",
      "     ----------------                         5.2/12.8 MB 1.9 MB/s eta 0:00:05\n",
      "     ----------------                         5.2/12.8 MB 1.9 MB/s eta 0:00:04\n",
      "     ----------------                         5.3/12.8 MB 1.9 MB/s eta 0:00:04\n",
      "     -----------------                        5.5/12.8 MB 1.9 MB/s eta 0:00:04\n",
      "     -----------------                        5.6/12.8 MB 2.0 MB/s eta 0:00:04\n",
      "     -----------------                        5.7/12.8 MB 2.0 MB/s eta 0:00:04\n",
      "     ------------------                       5.8/12.8 MB 2.0 MB/s eta 0:00:04\n",
      "     ------------------                       5.9/12.8 MB 2.0 MB/s eta 0:00:04\n",
      "     ------------------                       6.0/12.8 MB 2.0 MB/s eta 0:00:04\n",
      "     -------------------                      6.2/12.8 MB 2.0 MB/s eta 0:00:04\n",
      "     -------------------                      6.2/12.8 MB 2.0 MB/s eta 0:00:04\n",
      "     -------------------                      6.3/12.8 MB 2.0 MB/s eta 0:00:04\n",
      "     --------------------                     6.4/12.8 MB 2.0 MB/s eta 0:00:04\n",
      "     --------------------                     6.6/12.8 MB 2.0 MB/s eta 0:00:04\n",
      "     --------------------                     6.7/12.8 MB 2.0 MB/s eta 0:00:04\n",
      "     ---------------------                    6.9/12.8 MB 2.0 MB/s eta 0:00:03\n",
      "     ---------------------                    7.0/12.8 MB 2.0 MB/s eta 0:00:03\n",
      "     ----------------------                   7.1/12.8 MB 2.1 MB/s eta 0:00:03\n",
      "     ----------------------                   7.3/12.8 MB 2.1 MB/s eta 0:00:03\n",
      "     -----------------------                  7.4/12.8 MB 2.1 MB/s eta 0:00:03\n",
      "     -----------------------                  7.6/12.8 MB 2.1 MB/s eta 0:00:03\n",
      "     ------------------------                 7.7/12.8 MB 2.1 MB/s eta 0:00:03\n",
      "     ------------------------                 7.8/12.8 MB 2.1 MB/s eta 0:00:03\n",
      "     ------------------------                 8.0/12.8 MB 2.1 MB/s eta 0:00:03\n",
      "     -------------------------                8.1/12.8 MB 2.1 MB/s eta 0:00:03\n",
      "     -------------------------                8.3/12.8 MB 2.2 MB/s eta 0:00:03\n",
      "     --------------------------               8.4/12.8 MB 2.2 MB/s eta 0:00:03\n",
      "     --------------------------               8.5/12.8 MB 2.2 MB/s eta 0:00:02\n",
      "     --------------------------               8.6/12.8 MB 2.2 MB/s eta 0:00:02\n",
      "     --------------------------               8.6/12.8 MB 2.1 MB/s eta 0:00:02\n",
      "     ---------------------------              8.7/12.8 MB 2.1 MB/s eta 0:00:02\n",
      "     ---------------------------              8.7/12.8 MB 2.1 MB/s eta 0:00:02\n",
      "     ---------------------------              8.7/12.8 MB 2.1 MB/s eta 0:00:02\n",
      "     ---------------------------              8.8/12.8 MB 2.1 MB/s eta 0:00:02\n",
      "     ---------------------------              8.8/12.8 MB 2.1 MB/s eta 0:00:02\n",
      "     ---------------------------              8.9/12.8 MB 2.1 MB/s eta 0:00:02\n",
      "     ---------------------------              8.9/12.8 MB 2.1 MB/s eta 0:00:02\n",
      "     ----------------------------             9.0/12.8 MB 2.1 MB/s eta 0:00:02\n",
      "     ----------------------------             9.1/12.8 MB 2.0 MB/s eta 0:00:02\n",
      "     ----------------------------             9.1/12.8 MB 2.0 MB/s eta 0:00:02\n",
      "     ----------------------------             9.3/12.8 MB 2.0 MB/s eta 0:00:02\n",
      "     -----------------------------            9.4/12.8 MB 2.1 MB/s eta 0:00:02\n",
      "     -----------------------------            9.5/12.8 MB 2.1 MB/s eta 0:00:02\n",
      "     -----------------------------            9.6/12.8 MB 2.1 MB/s eta 0:00:02\n",
      "     ------------------------------           9.7/12.8 MB 2.1 MB/s eta 0:00:02\n",
      "     ------------------------------           9.8/12.8 MB 2.1 MB/s eta 0:00:02\n",
      "     ------------------------------           9.9/12.8 MB 2.1 MB/s eta 0:00:02\n",
      "     -------------------------------          10.0/12.8 MB 2.1 MB/s eta 0:00:02\n",
      "     -------------------------------          10.1/12.8 MB 2.1 MB/s eta 0:00:02\n",
      "     -------------------------------          10.2/12.8 MB 2.1 MB/s eta 0:00:02\n",
      "     --------------------------------         10.3/12.8 MB 2.1 MB/s eta 0:00:02\n",
      "     --------------------------------         10.4/12.8 MB 2.1 MB/s eta 0:00:02\n",
      "     --------------------------------         10.5/12.8 MB 2.1 MB/s eta 0:00:02\n",
      "     ---------------------------------        10.6/12.8 MB 2.1 MB/s eta 0:00:02\n",
      "     ---------------------------------        10.7/12.8 MB 2.1 MB/s eta 0:00:01\n",
      "     ---------------------------------        10.8/12.8 MB 2.1 MB/s eta 0:00:01\n",
      "     ----------------------------------       10.9/12.8 MB 2.1 MB/s eta 0:00:01\n",
      "     ----------------------------------       11.0/12.8 MB 2.1 MB/s eta 0:00:01\n",
      "     ----------------------------------       11.1/12.8 MB 2.1 MB/s eta 0:00:01\n",
      "     -----------------------------------      11.3/12.8 MB 2.1 MB/s eta 0:00:01\n",
      "     -----------------------------------      11.4/12.8 MB 2.1 MB/s eta 0:00:01\n",
      "     -----------------------------------      11.5/12.8 MB 2.1 MB/s eta 0:00:01\n",
      "     ------------------------------------     11.7/12.8 MB 2.1 MB/s eta 0:00:01\n",
      "     ------------------------------------     11.7/12.8 MB 2.1 MB/s eta 0:00:01\n",
      "     ------------------------------------     11.8/12.8 MB 2.1 MB/s eta 0:00:01\n",
      "     -------------------------------------    12.0/12.8 MB 2.1 MB/s eta 0:00:01\n",
      "     -------------------------------------    12.1/12.8 MB 2.1 MB/s eta 0:00:01\n",
      "     --------------------------------------   12.2/12.8 MB 2.1 MB/s eta 0:00:01\n",
      "     --------------------------------------   12.2/12.8 MB 2.1 MB/s eta 0:00:01\n",
      "     --------------------------------------   12.3/12.8 MB 2.1 MB/s eta 0:00:01\n",
      "     --------------------------------------   12.4/12.8 MB 2.1 MB/s eta 0:00:01\n",
      "     --------------------------------------   12.4/12.8 MB 2.1 MB/s eta 0:00:01\n",
      "     --------------------------------------   12.4/12.8 MB 2.0 MB/s eta 0:00:01\n",
      "     --------------------------------------   12.5/12.8 MB 2.0 MB/s eta 0:00:01\n",
      "     ---------------------------------------  12.6/12.8 MB 2.0 MB/s eta 0:00:01\n",
      "     ---------------------------------------  12.6/12.8 MB 2.0 MB/s eta 0:00:01\n",
      "     ---------------------------------------  12.7/12.8 MB 2.0 MB/s eta 0:00:01\n",
      "     ---------------------------------------  12.8/12.8 MB 2.0 MB/s eta 0:00:01\n",
      "     ---------------------------------------- 12.8/12.8 MB 2.0 MB/s eta 0:00:00\n",
      "Requirement already satisfied: spacy<3.8.0,>=3.7.2 in c:\\users\\shivam\\anaconda3\\lib\\site-packages (from en-core-web-sm==3.7.1) (3.7.2)\n",
      "Requirement already satisfied: spacy-legacy<3.1.0,>=3.0.11 in c:\\users\\shivam\\anaconda3\\lib\\site-packages (from spacy<3.8.0,>=3.7.2->en-core-web-sm==3.7.1) (3.0.12)\n",
      "Requirement already satisfied: spacy-loggers<2.0.0,>=1.0.0 in c:\\users\\shivam\\anaconda3\\lib\\site-packages (from spacy<3.8.0,>=3.7.2->en-core-web-sm==3.7.1) (1.0.5)\n",
      "Requirement already satisfied: murmurhash<1.1.0,>=0.28.0 in c:\\users\\shivam\\anaconda3\\lib\\site-packages (from spacy<3.8.0,>=3.7.2->en-core-web-sm==3.7.1) (1.0.10)\n",
      "Requirement already satisfied: cymem<2.1.0,>=2.0.2 in c:\\users\\shivam\\anaconda3\\lib\\site-packages (from spacy<3.8.0,>=3.7.2->en-core-web-sm==3.7.1) (2.0.8)\n",
      "Requirement already satisfied: preshed<3.1.0,>=3.0.2 in c:\\users\\shivam\\anaconda3\\lib\\site-packages (from spacy<3.8.0,>=3.7.2->en-core-web-sm==3.7.1) (3.0.9)\n",
      "Requirement already satisfied: thinc<8.3.0,>=8.1.8 in c:\\users\\shivam\\anaconda3\\lib\\site-packages (from spacy<3.8.0,>=3.7.2->en-core-web-sm==3.7.1) (8.2.1)\n",
      "Requirement already satisfied: wasabi<1.2.0,>=0.9.1 in c:\\users\\shivam\\anaconda3\\lib\\site-packages (from spacy<3.8.0,>=3.7.2->en-core-web-sm==3.7.1) (1.1.2)\n",
      "Requirement already satisfied: srsly<3.0.0,>=2.4.3 in c:\\users\\shivam\\anaconda3\\lib\\site-packages (from spacy<3.8.0,>=3.7.2->en-core-web-sm==3.7.1) (2.4.8)\n",
      "Requirement already satisfied: catalogue<2.1.0,>=2.0.6 in c:\\users\\shivam\\anaconda3\\lib\\site-packages (from spacy<3.8.0,>=3.7.2->en-core-web-sm==3.7.1) (2.0.10)\n",
      "Requirement already satisfied: weasel<0.4.0,>=0.1.0 in c:\\users\\shivam\\anaconda3\\lib\\site-packages (from spacy<3.8.0,>=3.7.2->en-core-web-sm==3.7.1) (0.3.4)\n",
      "Requirement already satisfied: typer<0.10.0,>=0.3.0 in c:\\users\\shivam\\anaconda3\\lib\\site-packages (from spacy<3.8.0,>=3.7.2->en-core-web-sm==3.7.1) (0.9.0)\n",
      "Requirement already satisfied: smart-open<7.0.0,>=5.2.1 in c:\\users\\shivam\\anaconda3\\lib\\site-packages (from spacy<3.8.0,>=3.7.2->en-core-web-sm==3.7.1) (5.2.1)\n",
      "Requirement already satisfied: tqdm<5.0.0,>=4.38.0 in c:\\users\\shivam\\anaconda3\\lib\\site-packages (from spacy<3.8.0,>=3.7.2->en-core-web-sm==3.7.1) (4.65.0)\n",
      "Requirement already satisfied: requests<3.0.0,>=2.13.0 in c:\\users\\shivam\\anaconda3\\lib\\site-packages (from spacy<3.8.0,>=3.7.2->en-core-web-sm==3.7.1) (2.31.0)\n",
      "Requirement already satisfied: pydantic!=1.8,!=1.8.1,<3.0.0,>=1.7.4 in c:\\users\\shivam\\anaconda3\\lib\\site-packages (from spacy<3.8.0,>=3.7.2->en-core-web-sm==3.7.1) (2.5.2)\n",
      "Requirement already satisfied: jinja2 in c:\\users\\shivam\\anaconda3\\lib\\site-packages (from spacy<3.8.0,>=3.7.2->en-core-web-sm==3.7.1) (3.1.2)\n",
      "Requirement already satisfied: setuptools in c:\\users\\shivam\\anaconda3\\lib\\site-packages (from spacy<3.8.0,>=3.7.2->en-core-web-sm==3.7.1) (67.8.0)\n",
      "Requirement already satisfied: packaging>=20.0 in c:\\users\\shivam\\anaconda3\\lib\\site-packages (from spacy<3.8.0,>=3.7.2->en-core-web-sm==3.7.1) (23.0)\n",
      "Requirement already satisfied: langcodes<4.0.0,>=3.2.0 in c:\\users\\shivam\\anaconda3\\lib\\site-packages (from spacy<3.8.0,>=3.7.2->en-core-web-sm==3.7.1) (3.3.0)\n",
      "Requirement already satisfied: numpy>=1.19.0 in c:\\users\\shivam\\anaconda3\\lib\\site-packages (from spacy<3.8.0,>=3.7.2->en-core-web-sm==3.7.1) (1.24.3)\n",
      "Requirement already satisfied: annotated-types>=0.4.0 in c:\\users\\shivam\\anaconda3\\lib\\site-packages (from pydantic!=1.8,!=1.8.1,<3.0.0,>=1.7.4->spacy<3.8.0,>=3.7.2->en-core-web-sm==3.7.1) (0.6.0)\n",
      "Requirement already satisfied: pydantic-core==2.14.5 in c:\\users\\shivam\\anaconda3\\lib\\site-packages (from pydantic!=1.8,!=1.8.1,<3.0.0,>=1.7.4->spacy<3.8.0,>=3.7.2->en-core-web-sm==3.7.1) (2.14.5)\n",
      "Requirement already satisfied: typing-extensions>=4.6.1 in c:\\users\\shivam\\anaconda3\\lib\\site-packages (from pydantic!=1.8,!=1.8.1,<3.0.0,>=1.7.4->spacy<3.8.0,>=3.7.2->en-core-web-sm==3.7.1) (4.6.3)\n",
      "Requirement already satisfied: charset-normalizer<4,>=2 in c:\\users\\shivam\\anaconda3\\lib\\site-packages (from requests<3.0.0,>=2.13.0->spacy<3.8.0,>=3.7.2->en-core-web-sm==3.7.1) (2.0.4)\n",
      "Requirement already satisfied: idna<4,>=2.5 in c:\\users\\shivam\\anaconda3\\lib\\site-packages (from requests<3.0.0,>=2.13.0->spacy<3.8.0,>=3.7.2->en-core-web-sm==3.7.1) (3.4)\n",
      "Requirement already satisfied: urllib3<3,>=1.21.1 in c:\\users\\shivam\\anaconda3\\lib\\site-packages (from requests<3.0.0,>=2.13.0->spacy<3.8.0,>=3.7.2->en-core-web-sm==3.7.1) (1.26.16)\n",
      "Requirement already satisfied: certifi>=2017.4.17 in c:\\users\\shivam\\anaconda3\\lib\\site-packages (from requests<3.0.0,>=2.13.0->spacy<3.8.0,>=3.7.2->en-core-web-sm==3.7.1) (2023.5.7)\n",
      "Requirement already satisfied: blis<0.8.0,>=0.7.8 in c:\\users\\shivam\\anaconda3\\lib\\site-packages (from thinc<8.3.0,>=8.1.8->spacy<3.8.0,>=3.7.2->en-core-web-sm==3.7.1) (0.7.11)\n",
      "Requirement already satisfied: confection<1.0.0,>=0.0.1 in c:\\users\\shivam\\anaconda3\\lib\\site-packages (from thinc<8.3.0,>=8.1.8->spacy<3.8.0,>=3.7.2->en-core-web-sm==3.7.1) (0.1.4)\n",
      "Requirement already satisfied: colorama in c:\\users\\shivam\\anaconda3\\lib\\site-packages (from tqdm<5.0.0,>=4.38.0->spacy<3.8.0,>=3.7.2->en-core-web-sm==3.7.1) (0.4.6)\n",
      "Requirement already satisfied: click<9.0.0,>=7.1.1 in c:\\users\\shivam\\anaconda3\\lib\\site-packages (from typer<0.10.0,>=0.3.0->spacy<3.8.0,>=3.7.2->en-core-web-sm==3.7.1) (8.0.4)\n",
      "Requirement already satisfied: cloudpathlib<0.17.0,>=0.7.0 in c:\\users\\shivam\\anaconda3\\lib\\site-packages (from weasel<0.4.0,>=0.1.0->spacy<3.8.0,>=3.7.2->en-core-web-sm==3.7.1) (0.16.0)\n",
      "Requirement already satisfied: MarkupSafe>=2.0 in c:\\users\\shivam\\anaconda3\\lib\\site-packages (from jinja2->spacy<3.8.0,>=3.7.2->en-core-web-sm==3.7.1) (2.1.1)\n",
      "Installing collected packages: en-core-web-sm\n",
      "Successfully installed en-core-web-sm-3.7.1\n",
      "\u001b[38;5;2m✔ Download and installation successful\u001b[0m\n",
      "You can now load the package via spacy.load('en_core_web_sm')\n"
     ]
    }
   ],
   "source": [
    "!python -m spacy download en"
   ]
  },
  {
   "cell_type": "code",
   "execution_count": 9,
   "metadata": {},
   "outputs": [],
   "source": [
    "nlp =spacy.load('en_core_web_sm')"
   ]
  },
  {
   "cell_type": "code",
   "execution_count": 10,
   "metadata": {},
   "outputs": [],
   "source": [
    "doc = nlp(\"Dr. Strange loves pav bhaji of mumbai. Hulk loves chat from delhi\")"
   ]
  },
  {
   "cell_type": "code",
   "execution_count": 12,
   "metadata": {},
   "outputs": [
    {
     "name": "stdout",
     "output_type": "stream",
     "text": [
      "Dr. Strange loves pav bhaji of mumbai.\n",
      "Hulk loves chat from delhi\n"
     ]
    }
   ],
   "source": [
    "for sentence in doc.sents:\n",
    "    print(sentence)"
   ]
  },
  {
   "cell_type": "code",
   "execution_count": 13,
   "metadata": {},
   "outputs": [
    {
     "name": "stdout",
     "output_type": "stream",
     "text": [
      "Dr.\n",
      "Strange\n",
      "loves\n",
      "pav\n",
      "bhaji\n",
      "of\n",
      "mumbai\n",
      ".\n",
      "Hulk\n",
      "loves\n",
      "chat\n",
      "from\n",
      "delhi\n"
     ]
    }
   ],
   "source": [
    "for sentence in doc.sents:\n",
    "    for word in sentence:\n",
    "        print(word)"
   ]
  },
  {
   "cell_type": "code",
   "execution_count": 14,
   "metadata": {},
   "outputs": [],
   "source": [
    "# using nltk"
   ]
  },
  {
   "cell_type": "code",
   "execution_count": 15,
   "metadata": {},
   "outputs": [],
   "source": [
    "import nltk"
   ]
  },
  {
   "cell_type": "code",
   "execution_count": 16,
   "metadata": {},
   "outputs": [],
   "source": [
    "from nltk.tokenize import sent_tokenize"
   ]
  },
  {
   "cell_type": "code",
   "execution_count": 18,
   "metadata": {},
   "outputs": [],
   "source": [
    "tokens = sent_tokenize(\"Dr. Strange loves pav bhaji of mumbai. Hulk loves chat from delhi\")"
   ]
  },
  {
   "cell_type": "code",
   "execution_count": 19,
   "metadata": {},
   "outputs": [
    {
     "name": "stdout",
     "output_type": "stream",
     "text": [
      "Dr.\n",
      "Strange loves pav bhaji of mumbai.\n",
      "Hulk loves chat from delhi\n"
     ]
    }
   ],
   "source": [
    "for token in tokens:\n",
    "    print(token)"
   ]
  },
  {
   "cell_type": "code",
   "execution_count": null,
   "metadata": {},
   "outputs": [],
   "source": []
  },
  {
   "cell_type": "code",
   "execution_count": null,
   "metadata": {},
   "outputs": [],
   "source": []
  }
 ],
 "metadata": {
  "kernelspec": {
   "display_name": "base",
   "language": "python",
   "name": "python3"
  },
  "language_info": {
   "codemirror_mode": {
    "name": "ipython",
    "version": 3
   },
   "file_extension": ".py",
   "mimetype": "text/x-python",
   "name": "python",
   "nbconvert_exporter": "python",
   "pygments_lexer": "ipython3",
   "version": "3.11.3"
  }
 },
 "nbformat": 4,
 "nbformat_minor": 2
}
