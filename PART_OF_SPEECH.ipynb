{
 "cells": [
  {
   "cell_type": "code",
   "execution_count": 1,
   "metadata": {},
   "outputs": [],
   "source": [
    "import spacy"
   ]
  },
  {
   "cell_type": "code",
   "execution_count": 2,
   "metadata": {},
   "outputs": [],
   "source": [
    "sp = spacy.load(\"en_core_web_sm\")"
   ]
  },
  {
   "cell_type": "code",
   "execution_count": 6,
   "metadata": {},
   "outputs": [],
   "source": [
    "doc = \"My name is Jake\"\n",
    "\n",
    "tokenized_doc = sp(doc)"
   ]
  },
  {
   "cell_type": "code",
   "execution_count": 7,
   "metadata": {},
   "outputs": [
    {
     "name": "stdout",
     "output_type": "stream",
     "text": [
      "My   |    PRON\n",
      "name   |    NOUN\n",
      "is   |    AUX\n",
      "Jake   |    PROPN\n"
     ]
    }
   ],
   "source": [
    "for token in tokenized_doc:\n",
    "    print(token, \"  |   \", token.pos_)"
   ]
  },
  {
   "cell_type": "code",
   "execution_count": 11,
   "metadata": {},
   "outputs": [],
   "source": [
    "doc2 = \"Wow! Dr. Strange made 265 million of first day\""
   ]
  },
  {
   "cell_type": "code",
   "execution_count": 12,
   "metadata": {},
   "outputs": [],
   "source": [
    "tokenized_doc2 = sp(doc2)"
   ]
  },
  {
   "cell_type": "code",
   "execution_count": 14,
   "metadata": {},
   "outputs": [
    {
     "name": "stdout",
     "output_type": "stream",
     "text": [
      "Wow   |    INTJ    |    interjection\n",
      "!   |    PUNCT    |    punctuation\n",
      "Dr.   |    PROPN    |    proper noun\n",
      "Strange   |    PROPN    |    proper noun\n",
      "made   |    VERB    |    verb\n",
      "265   |    NUM    |    numeral\n",
      "million   |    NUM    |    numeral\n",
      "of   |    ADP    |    adposition\n",
      "first   |    ADJ    |    adjective\n",
      "day   |    NOUN    |    noun\n"
     ]
    }
   ],
   "source": [
    "for token in tokenized_doc2:\n",
    "    print(token ,\"  |   \", token.pos_ , \"   |   \" , spacy.explain(token.pos_))"
   ]
  },
  {
   "cell_type": "code",
   "execution_count": 16,
   "metadata": {},
   "outputs": [
    {
     "data": {
      "text/plain": [
       "['tok2vec', 'tagger', 'parser', 'attribute_ruler', 'lemmatizer', 'ner']"
      ]
     },
     "execution_count": 16,
     "metadata": {},
     "output_type": "execute_result"
    }
   ],
   "source": [
    "sp.pipe_names"
   ]
  },
  {
   "cell_type": "code",
   "execution_count": null,
   "metadata": {},
   "outputs": [],
   "source": []
  }
 ],
 "metadata": {
  "kernelspec": {
   "display_name": "base",
   "language": "python",
   "name": "python3"
  },
  "language_info": {
   "codemirror_mode": {
    "name": "ipython",
    "version": 3
   },
   "file_extension": ".py",
   "mimetype": "text/x-python",
   "name": "python",
   "nbconvert_exporter": "python",
   "pygments_lexer": "ipython3",
   "version": "3.11.3"
  }
 },
 "nbformat": 4,
 "nbformat_minor": 2
}
