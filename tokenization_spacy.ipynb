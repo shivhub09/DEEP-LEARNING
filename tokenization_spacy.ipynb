{
 "cells": [
  {
   "cell_type": "code",
   "execution_count": 1,
   "metadata": {},
   "outputs": [],
   "source": [
    "import spacy"
   ]
  },
  {
   "cell_type": "code",
   "execution_count": 2,
   "metadata": {},
   "outputs": [],
   "source": [
    "nlp =spacy.load('en_core_web_sm')"
   ]
  },
  {
   "cell_type": "code",
   "execution_count": 3,
   "metadata": {},
   "outputs": [],
   "source": [
    "# tokenizers in spacy"
   ]
  },
  {
   "cell_type": "code",
   "execution_count": 4,
   "metadata": {},
   "outputs": [],
   "source": [
    "# pparagraph to sentences and then sentences to words"
   ]
  },
  {
   "cell_type": "code",
   "execution_count": 6,
   "metadata": {},
   "outputs": [],
   "source": [
    "nlp2 = spacy.blank(\"en\")"
   ]
  },
  {
   "cell_type": "code",
   "execution_count": 9,
   "metadata": {},
   "outputs": [],
   "source": [
    "doc = nlp2(\"Dr. Strange loves pav bhaji of mumbai as it costs only 2$ per plate.\")"
   ]
  },
  {
   "cell_type": "code",
   "execution_count": 10,
   "metadata": {},
   "outputs": [
    {
     "name": "stdout",
     "output_type": "stream",
     "text": [
      "Dr.\n",
      "Strange\n",
      "loves\n",
      "pav\n",
      "bhaji\n",
      "of\n",
      "mumbai\n",
      "as\n",
      "it\n",
      "costs\n",
      "only\n",
      "2\n",
      "$\n",
      "per\n",
      "plate\n",
      ".\n"
     ]
    }
   ],
   "source": [
    "for token in doc:\n",
    "    print(token)"
   ]
  },
  {
   "cell_type": "code",
   "execution_count": 12,
   "metadata": {},
   "outputs": [
    {
     "data": {
      "text/plain": [
       "."
      ]
     },
     "execution_count": 12,
     "metadata": {},
     "output_type": "execute_result"
    }
   ],
   "source": [
    "doc[-1]"
   ]
  },
  {
   "cell_type": "code",
   "execution_count": 13,
   "metadata": {},
   "outputs": [
    {
     "data": {
      "text/plain": [
       "Dr."
      ]
     },
     "execution_count": 13,
     "metadata": {},
     "output_type": "execute_result"
    }
   ],
   "source": [
    "doc[0]"
   ]
  },
  {
   "cell_type": "code",
   "execution_count": 17,
   "metadata": {},
   "outputs": [],
   "source": [
    "doc2 = nlp2(\"Let's go to N.Y!\")"
   ]
  },
  {
   "cell_type": "code",
   "execution_count": 18,
   "metadata": {},
   "outputs": [
    {
     "name": "stdout",
     "output_type": "stream",
     "text": [
      "Let\n",
      "'s\n",
      "go\n",
      "to\n",
      "N.Y\n",
      "!\n"
     ]
    }
   ],
   "source": [
    "for token in doc2:\n",
    "    print(token)"
   ]
  },
  {
   "cell_type": "code",
   "execution_count": 19,
   "metadata": {},
   "outputs": [
    {
     "data": {
      "text/plain": [
       "spacy.tokens.doc.Doc"
      ]
     },
     "execution_count": 19,
     "metadata": {},
     "output_type": "execute_result"
    }
   ],
   "source": [
    "type(doc2)"
   ]
  },
  {
   "cell_type": "code",
   "execution_count": 20,
   "metadata": {},
   "outputs": [],
   "source": [
    "doc3 = nlp(\"Tony gave two ddollar to Peter.\")"
   ]
  },
  {
   "cell_type": "code",
   "execution_count": 21,
   "metadata": {},
   "outputs": [
    {
     "name": "stdout",
     "output_type": "stream",
     "text": [
      "Tony\n",
      "gave\n",
      "two\n",
      "ddollar\n",
      "to\n",
      "Peter\n",
      ".\n"
     ]
    }
   ],
   "source": [
    "for token in doc3:\n",
    "    print(token)"
   ]
  },
  {
   "cell_type": "code",
   "execution_count": 26,
   "metadata": {},
   "outputs": [
    {
     "name": "stdout",
     "output_type": "stream",
     "text": [
      "Tony\n"
     ]
    }
   ],
   "source": [
    "token0 = doc3[0]\n",
    "print(token0)"
   ]
  },
  {
   "cell_type": "code",
   "execution_count": 27,
   "metadata": {},
   "outputs": [
    {
     "data": {
      "text/plain": [
       "True"
      ]
     },
     "execution_count": 27,
     "metadata": {},
     "output_type": "execute_result"
    }
   ],
   "source": [
    "token0.is_alpha"
   ]
  },
  {
   "cell_type": "code",
   "execution_count": 28,
   "metadata": {},
   "outputs": [
    {
     "data": {
      "text/plain": [
       "False"
      ]
     },
     "execution_count": 28,
     "metadata": {},
     "output_type": "execute_result"
    }
   ],
   "source": [
    "token0.like_num"
   ]
  },
  {
   "cell_type": "code",
   "execution_count": 31,
   "metadata": {},
   "outputs": [
    {
     "data": {
      "text/plain": [
       "'two'"
      ]
     },
     "execution_count": 31,
     "metadata": {},
     "output_type": "execute_result"
    }
   ],
   "source": [
    "token2 = doc3[2]\n",
    "\n",
    "token2.text"
   ]
  },
  {
   "cell_type": "code",
   "execution_count": 32,
   "metadata": {},
   "outputs": [
    {
     "data": {
      "text/plain": [
       "True"
      ]
     },
     "execution_count": 32,
     "metadata": {},
     "output_type": "execute_result"
    }
   ],
   "source": [
    "token2.like_num"
   ]
  },
  {
   "cell_type": "code",
   "execution_count": 37,
   "metadata": {},
   "outputs": [
    {
     "data": {
      "text/plain": [
       "['Certainly! Below is an example table with columns for name, birthdate, and email id, along with 10 dummy data entries:\\n',\n",
       " '\\n',\n",
       " '| Name         | Birthdate   | Email ID                        |\\n',\n",
       " '|--------------|-------------|---------------------------------|\\n',\n",
       " '| John Doe     | 1990-05-15  | john.doe@email.com              |\\n',\n",
       " '| Jane Smith   | 1985-09-23  | jane.smith@email.com            |\\n',\n",
       " '| Robert Brown | 1993-03-10  | robert.brown@email.com          |\\n',\n",
       " '| Emily White  | 1988-11-02  | emily.white@email.com           |\\n',\n",
       " '| Michael Lee  | 1995-07-18  | michael.lee@email.com           |\\n',\n",
       " '| Sarah Johnson| 1982-12-07  | sarah.johnson@email.com         |\\n',\n",
       " '| Alex Turner  | 1998-02-28  | alex.turner@email.com           |\\n',\n",
       " '| Olivia Davis | 1991-06-20  | olivia.davis@email.com          |\\n',\n",
       " '| William Chen | 1987-04-14  | william.chen@email.com          |\\n',\n",
       " '| Emma Taylor  | 1994-08-05  | emma.taylor@email.com           |\\n',\n",
       " '\\n',\n",
       " 'Feel free to replace the names, birthdates, and email IDs with your own data as needed.']"
      ]
     },
     "execution_count": 37,
     "metadata": {},
     "output_type": "execute_result"
    }
   ],
   "source": [
    "with open('data.txt') as f:\n",
    "    text = f.readlines()\n",
    "\n",
    "text\n"
   ]
  },
  {
   "cell_type": "code",
   "execution_count": 36,
   "metadata": {},
   "outputs": [],
   "source": [
    "# is_alpha\n",
    "# like_num\n",
    "# is_digit\n",
    "# is_currency\n",
    "# is_punct"
   ]
  },
  {
   "cell_type": "code",
   "execution_count": 38,
   "metadata": {},
   "outputs": [],
   "source": [
    "text = ' '.join(text)"
   ]
  },
  {
   "cell_type": "code",
   "execution_count": 39,
   "metadata": {},
   "outputs": [
    {
     "data": {
      "text/plain": [
       "'Certainly! Below is an example table with columns for name, birthdate, and email id, along with 10 dummy data entries:\\n \\n | Name         | Birthdate   | Email ID                        |\\n |--------------|-------------|---------------------------------|\\n | John Doe     | 1990-05-15  | john.doe@email.com              |\\n | Jane Smith   | 1985-09-23  | jane.smith@email.com            |\\n | Robert Brown | 1993-03-10  | robert.brown@email.com          |\\n | Emily White  | 1988-11-02  | emily.white@email.com           |\\n | Michael Lee  | 1995-07-18  | michael.lee@email.com           |\\n | Sarah Johnson| 1982-12-07  | sarah.johnson@email.com         |\\n | Alex Turner  | 1998-02-28  | alex.turner@email.com           |\\n | Olivia Davis | 1991-06-20  | olivia.davis@email.com          |\\n | William Chen | 1987-04-14  | william.chen@email.com          |\\n | Emma Taylor  | 1994-08-05  | emma.taylor@email.com           |\\n \\n Feel free to replace the names, birthdates, and email IDs with your own data as needed.'"
      ]
     },
     "execution_count": 39,
     "metadata": {},
     "output_type": "execute_result"
    }
   ],
   "source": []
  },
  {
   "cell_type": "code",
   "execution_count": 40,
   "metadata": {},
   "outputs": [],
   "source": [
    "doc_test = nlp(text)"
   ]
  },
  {
   "cell_type": "code",
   "execution_count": 41,
   "metadata": {},
   "outputs": [],
   "source": [
    "email_id = []\n",
    "for token in doc_test:\n",
    "    if token.like_email:\n",
    "        email_id.append(token)"
   ]
  },
  {
   "cell_type": "code",
   "execution_count": 45,
   "metadata": {},
   "outputs": [
    {
     "data": {
      "text/plain": [
       "[john.doe@email.com,\n",
       " jane.smith@email.com,\n",
       " robert.brown@email.com,\n",
       " emily.white@email.com,\n",
       " michael.lee@email.com,\n",
       " sarah.johnson@email.com,\n",
       " alex.turner@email.com,\n",
       " olivia.davis@email.com,\n",
       " william.chen@email.com,\n",
       " emma.taylor@email.com]"
      ]
     },
     "execution_count": 45,
     "metadata": {},
     "output_type": "execute_result"
    }
   ],
   "source": [
    "email_id"
   ]
  },
  {
   "cell_type": "code",
   "execution_count": 46,
   "metadata": {},
   "outputs": [],
   "source": [
    "# for hindi\n",
    "nlp_hi = spacy.blank(\"hi\")"
   ]
  },
  {
   "cell_type": "code",
   "execution_count": 47,
   "metadata": {},
   "outputs": [],
   "source": [
    "doc = nlp(\"मेरा नाम शिवम है और मैं इंजीनियरिंग कॉलेज में हूँ\")"
   ]
  },
  {
   "cell_type": "code",
   "execution_count": 48,
   "metadata": {},
   "outputs": [
    {
     "name": "stdout",
     "output_type": "stream",
     "text": [
      "मेरा\n",
      "नाम\n",
      "शिवम\n",
      "है\n",
      "और\n",
      "मैं\n",
      "इंजीनियरिंग\n",
      "कॉलेज\n",
      "में\n",
      "हूँ\n"
     ]
    }
   ],
   "source": [
    "for token in doc:\n",
    "    print(token)"
   ]
  },
  {
   "cell_type": "code",
   "execution_count": 49,
   "metadata": {},
   "outputs": [],
   "source": [
    "# customization tokenization"
   ]
  },
  {
   "cell_type": "code",
   "execution_count": 50,
   "metadata": {},
   "outputs": [],
   "source": [
    "doc5 = nlp(\"gimme double cheese extra large helathy pizza\")"
   ]
  },
  {
   "cell_type": "code",
   "execution_count": 53,
   "metadata": {},
   "outputs": [],
   "source": [
    "tokens = [token.text for token in doc5]"
   ]
  },
  {
   "cell_type": "code",
   "execution_count": 54,
   "metadata": {},
   "outputs": [
    {
     "data": {
      "text/plain": [
       "['gimme', 'double', 'cheese', 'extra', 'large', 'helathy', 'pizza']"
      ]
     },
     "execution_count": 54,
     "metadata": {},
     "output_type": "execute_result"
    }
   ],
   "source": [
    "tokens"
   ]
  },
  {
   "cell_type": "code",
   "execution_count": 55,
   "metadata": {},
   "outputs": [],
   "source": [
    "# exercise"
   ]
  },
  {
   "cell_type": "code",
   "execution_count": 56,
   "metadata": {},
   "outputs": [],
   "source": [
    "transactions = 'Tony gave a two $ to Peter , Bruce gave 500 $ to Steve'"
   ]
  },
  {
   "cell_type": "code",
   "execution_count": 57,
   "metadata": {},
   "outputs": [],
   "source": [
    "doc_tran = nlp(transactions)"
   ]
  },
  {
   "cell_type": "code",
   "execution_count": 60,
   "metadata": {},
   "outputs": [
    {
     "name": "stdout",
     "output_type": "stream",
     "text": [
      "two $ was transacted\n",
      "500 $ was transacted\n"
     ]
    }
   ],
   "source": [
    "for token in doc_tran:\n",
    "    if token.is_currency:\n",
    "        print(f\"{doc_tran[token.i-1]} {token} was transacted\")"
   ]
  },
  {
   "cell_type": "code",
   "execution_count": null,
   "metadata": {},
   "outputs": [],
   "source": []
  }
 ],
 "metadata": {
  "kernelspec": {
   "display_name": "base",
   "language": "python",
   "name": "python3"
  },
  "language_info": {
   "codemirror_mode": {
    "name": "ipython",
    "version": 3
   },
   "file_extension": ".py",
   "mimetype": "text/x-python",
   "name": "python",
   "nbconvert_exporter": "python",
   "pygments_lexer": "ipython3",
   "version": "3.11.3"
  }
 },
 "nbformat": 4,
 "nbformat_minor": 2
}
